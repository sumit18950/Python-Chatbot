{
 "cells": [
  {
   "cell_type": "markdown",
   "id": "b2e0c052",
   "metadata": {
    "id": "b2e0c052"
   },
   "source": [
    "# Building a Simple Chatbot Using Python\n",
    "\n",
    "\n"
   ]
  },
  {
   "cell_type": "markdown",
   "id": "8813dfcf",
   "metadata": {
    "id": "8813dfcf"
   },
   "source": [
    "## 1. Introduction to NLP and Chatbot Frameworks\n",
    "\n",
    "---\n",
    "\n",
    "\n",
    "\n",
    "### Definition and Importance of NLP\n",
    "Natural Language Processing (NLP) is a field of artificial intelligence that focuses on the interaction between computers and humans through natural language. The ultimate goal of NLP is to enable computers to understand, interpret, and generate human languages in a way that is both meaningful and useful.\n",
    "\n",
    "**Applications of NLP:**\n",
    "- Sentiment Analysis\n",
    "- Language Translation\n",
    "- Chatbots and Virtual Assistants\n",
    "- Text Summarization\n",
    "- Speech Recognition"
   ]
  },
  {
   "cell_type": "markdown",
   "id": "16cb9764",
   "metadata": {
    "id": "16cb9764"
   },
   "source": [
    "### Common NLP Tasks\n",
    "#### Tokenization\n",
    "Tokenization is the process of breaking text into individual words or tokens.\n",
    "\n",
    "#### Stemming and Lemmatization\n",
    "Stemming and lemmatization are processes of reducing words to their root forms.\n",
    "\n",
    "#### Stop Words Removal\n",
    "Stop words are common words that add little meaning to text and are often removed in preprocessing."
   ]
  },
  {
   "cell_type": "code",
   "execution_count": 4,
   "id": "ba7a2fde",
   "metadata": {
    "colab": {
     "base_uri": "https://localhost:8080/"
    },
    "id": "ba7a2fde",
    "outputId": "36e48c59-ed27-443f-ebbc-572d39971296"
   },
   "outputs": [
    {
     "name": "stdout",
     "output_type": "stream",
     "text": [
      "['Natural', 'Language', 'Processing', 'is', 'fascinating', '.']\n"
     ]
    },
    {
     "name": "stderr",
     "output_type": "stream",
     "text": [
      "[nltk_data] Downloading package punkt to C:\\Users\\Sumit\n",
      "[nltk_data]     Kumar\\AppData\\Roaming\\nltk_data...\n",
      "[nltk_data]   Package punkt is already up-to-date!\n"
     ]
    }
   ],
   "source": [
    "import nltk\n",
    "nltk.download('punkt')\n",
    "from nltk.tokenize import word_tokenize\n",
    "\n",
    "text = \"Natural Language Processing is fascinating.\"\n",
    "tokens = word_tokenize(text)\n",
    "print(tokens)"
   ]
  },
  {
   "cell_type": "code",
   "execution_count": 2,
   "id": "98ccb093",
   "metadata": {
    "colab": {
     "base_uri": "https://localhost:8080/"
    },
    "id": "98ccb093",
    "outputId": "cc2da5bd-123d-465e-bd18-746e354c3ffa"
   },
   "outputs": [
    {
     "name": "stdout",
     "output_type": "stream",
     "text": [
      "['run', 'ran', 'run']\n"
     ]
    }
   ],
   "source": [
    "from nltk.stem import PorterStemmer\n",
    "\n",
    "stemmer = PorterStemmer()\n",
    "words = [\"running\", \"ran\", \"runs\"]\n",
    "stems = [stemmer.stem(word) for word in words]\n",
    "print(stems)"
   ]
  },
  {
   "cell_type": "code",
   "execution_count": 3,
   "id": "17c70079",
   "metadata": {
    "colab": {
     "base_uri": "https://localhost:8080/"
    },
    "id": "17c70079",
    "outputId": "0aaa3ff0-cb8b-469e-9fac-3d73c003c26b"
   },
   "outputs": [
    {
     "name": "stderr",
     "output_type": "stream",
     "text": [
      "[nltk_data] Downloading package wordnet to /root/nltk_data...\n"
     ]
    },
    {
     "name": "stdout",
     "output_type": "stream",
     "text": [
      "['run', 'run', 'run']\n"
     ]
    }
   ],
   "source": [
    "from nltk.stem import WordNetLemmatizer\n",
    "nltk.download('wordnet')\n",
    "\n",
    "lemmatizer = WordNetLemmatizer()\n",
    "words = [\"running\", \"ran\", \"runs\"]\n",
    "lemmas = [lemmatizer.lemmatize(word, pos='v') for word in words]\n",
    "print(lemmas)"
   ]
  },
  {
   "cell_type": "code",
   "execution_count": 4,
   "id": "791fa950",
   "metadata": {
    "colab": {
     "base_uri": "https://localhost:8080/"
    },
    "id": "791fa950",
    "outputId": "04c9a93e-14a5-4c98-91ca-5140b8241294"
   },
   "outputs": [
    {
     "name": "stdout",
     "output_type": "stream",
     "text": [
      "['Natural', 'Language', 'Processing', 'fascinating', '.']\n"
     ]
    },
    {
     "name": "stderr",
     "output_type": "stream",
     "text": [
      "[nltk_data] Downloading package stopwords to /root/nltk_data...\n",
      "[nltk_data]   Unzipping corpora/stopwords.zip.\n"
     ]
    }
   ],
   "source": [
    "from nltk.corpus import stopwords\n",
    "nltk.download('stopwords')\n",
    "\n",
    "stop_words = set(stopwords.words('english'))\n",
    "filtered_text = [word for word in tokens if word.lower() not in stop_words]\n",
    "print(filtered_text)"
   ]
  },
  {
   "cell_type": "markdown",
   "id": "3d4734f7",
   "metadata": {
    "id": "3d4734f7"
   },
   "source": [
    "### Overview of Popular NLP Libraries\n",
    "#### NLTK (Natural Language Toolkit)\n",
    "NLTK is a powerful library for various NLP tasks, including tokenization, stemming, lemmatization, and more.\n",
    "\n",
    "#### SpaCy\n",
    "SpaCy is an open-source software library for advanced NLP tasks, known for its speed and efficiency.\n",
    "\n",
    "#### TextBlob\n",
    "TextBlob is a simple library for processing textual data, providing easy-to-use APIs for common NLP tasks."
   ]
  },
  {
   "cell_type": "markdown",
   "id": "1949f90b",
   "metadata": {
    "id": "1949f90b"
   },
   "source": [
    "### Introduction to Chatbot Frameworks\n",
    "#### ChatterBot\n",
    "ChatterBot is a Python library that makes it easy to generate automated responses to a user's input.\n",
    "\n",
    "#### Rasa\n",
    "Rasa is an open-source framework for building conversational AI, including chatbots and voice assistants."
   ]
  },
  {
   "cell_type": "markdown",
   "id": "64e793e2",
   "metadata": {
    "id": "64e793e2"
   },
   "source": [
    "## 2. Designing and Training a Simple Chatbot\n",
    "\n",
    "### Preprocessing Text Data\n",
    "Before training a chatbot, we need to preprocess the text data by tokenizing the text, removing stop words, and applying stemming or lemmatization."
   ]
  },
  {
   "cell_type": "code",
   "execution_count": 5,
   "id": "99cf09a1",
   "metadata": {
    "colab": {
     "base_uri": "https://localhost:8080/"
    },
    "id": "99cf09a1",
    "outputId": "cada6bb6-5a5d-46fc-b8e3-cf284a8d3bf0"
   },
   "outputs": [
    {
     "name": "stdout",
     "output_type": "stream",
     "text": [
      "                                      Question  \\\n",
      "0                   introduction to the course   \n",
      "1  overview of data science and its importance   \n",
      "2    introduction to the data science workflow   \n",
      "3         key skills and tools in data science   \n",
      "4          where can i find my course videos ?   \n",
      "\n",
      "                                              Answer  \n",
      "0  Welcome to the data science course. Here you w...  \n",
      "1  Data science is crucial for making informed de...  \n",
      "2  The data science workflow includes data collec...  \n",
      "3  Important skills include programming, statisti...  \n",
      "4  You can find all your course videos on the Cip...  \n"
     ]
    },
    {
     "name": "stderr",
     "output_type": "stream",
     "text": [
      "[nltk_data] Downloading package punkt to C:\\Users\\Sumit\n",
      "[nltk_data]     Kumar\\AppData\\Roaming\\nltk_data...\n",
      "[nltk_data]   Package punkt is already up-to-date!\n"
     ]
    }
   ],
   "source": [
    "import pandas as pd\n",
    "\n",
    "# Load the dataset\n",
    "data = pd.read_csv('chatbot_dataset.csv')\n",
    "\n",
    "# Preprocess the data\n",
    "nltk.download('punkt')\n",
    "data['Question'] = data['Question'].apply(lambda x: ' '.join(nltk.word_tokenize(x.lower())))\n",
    "print(data.head())"
   ]
  },
  {
   "cell_type": "markdown",
   "id": "556ec1a5",
   "metadata": {
    "id": "556ec1a5"
   },
   "source": [
    "### Vectorizing Text Data\n",
    "We convert the text data into numerical values using TF-IDF (Term Frequency-Inverse Document Frequency) vectorization."
   ]
  },
  {
   "cell_type": "code",
   "execution_count": 6,
   "id": "8c15d275",
   "metadata": {
    "colab": {
     "base_uri": "https://localhost:8080/"
    },
    "id": "8c15d275",
    "outputId": "42ae253e-d763-4686-edb1-2c7911d9590d"
   },
   "outputs": [
    {
     "name": "stdout",
     "output_type": "stream",
     "text": [
      "(49, 113)\n"
     ]
    }
   ],
   "source": [
    "from sklearn.feature_extraction.text import TfidfVectorizer\n",
    "\n",
    "vectorizer = TfidfVectorizer()\n",
    "X = vectorizer.fit_transform(data['Question'])\n",
    "print(X.shape)"
   ]
  },
  {
   "cell_type": "markdown",
   "id": "00d0aeca",
   "metadata": {
    "id": "00d0aeca"
   },
   "source": [
    "### Training a Text Classification Model\n",
    "We use the Naive Bayes classifier to train the model on the vectorized text data."
   ]
  },
  {
   "cell_type": "code",
   "execution_count": 7,
   "id": "36495a09",
   "metadata": {
    "colab": {
     "base_uri": "https://localhost:8080/"
    },
    "id": "36495a09",
    "outputId": "28339a79-c41a-44e1-bc4f-d2c195709e67"
   },
   "outputs": [
    {
     "name": "stdout",
     "output_type": "stream",
     "text": [
      "Model training complete.\n"
     ]
    }
   ],
   "source": [
    "from sklearn.naive_bayes import MultinomialNB\n",
    "from sklearn.pipeline import make_pipeline\n",
    "from sklearn.model_selection import train_test_split\n",
    "\n",
    "# Split the data into training and test sets\n",
    "X_train, X_test, y_train, y_test = train_test_split(data['Question'], data['Answer'], test_size=0.2, random_state=42)\n",
    "\n",
    "# Create a model pipeline\n",
    "model = make_pipeline(TfidfVectorizer(), MultinomialNB())\n",
    "\n",
    "# Train the model\n",
    "model.fit(X_train, y_train)\n",
    "print(\"Model training complete.\")"
   ]
  },
  {
   "cell_type": "markdown",
   "id": "9c14aa6a",
   "metadata": {
    "id": "9c14aa6a"
   },
   "source": [
    "### Implementing a Function to Get Chatbot Responses\n",
    "We write a function to process user input and return responses based on the trained model."
   ]
  },
  {
   "cell_type": "code",
   "execution_count": 8,
   "id": "a9affc16",
   "metadata": {
    "colab": {
     "base_uri": "https://localhost:8080/"
    },
    "id": "a9affc16",
    "outputId": "8bcb8d1e-00b4-48a5-979c-aac53c8a0b9e"
   },
   "outputs": [
    {
     "name": "stdout",
     "output_type": "stream",
     "text": [
      "Seaborn is a Python visualization library based on Matplotlib that provides a high-level interface for drawing attractive statistical graphics. This is covered in the Introduction to Matplotlib and Seaborn module.\n"
     ]
    }
   ],
   "source": [
    "# Function to get a response from the chatbot\n",
    "def get_response(question):\n",
    "    question = ' '.join(nltk.word_tokenize(question.lower()))\n",
    "    answer = model.predict([question])[0]\n",
    "    return answer\n",
    "\n",
    "# Testing the function\n",
    "print(get_response(\"What is NLP?\"))"
   ]
  },
  {
   "cell_type": "markdown",
   "id": "5134102a",
   "metadata": {
    "id": "5134102a"
   },
   "source": [
    "# Basics of Dash and Plotly\n",
    "\n"
   ]
  },
  {
   "cell_type": "markdown",
   "id": "d2b73f16",
   "metadata": {
    "id": "d2b73f16"
   },
   "source": [
    "## Initializing the Dash App\n",
    "\n",
    "To start using Dash,need to import the Dash module and create an instance of the Dash class. This instance will be our app."
   ]
  },
  {
   "cell_type": "code",
   "execution_count": 9,
   "id": "f1656680",
   "metadata": {
    "id": "f1656680"
   },
   "outputs": [],
   "source": [
    "import dash\n",
    "\n",
    "# Initialize the Dash app\n",
    "app = dash.Dash(__name__)"
   ]
  },
  {
   "cell_type": "markdown",
   "id": "c179f94c",
   "metadata": {
    "id": "c179f94c"
   },
   "source": [
    "## Defining the Layout\n",
    "\n",
    "The layout of a Dash app is defined using Dash's HTML and core components. The layout describes what the app looks like."
   ]
  },
  {
   "cell_type": "code",
   "execution_count": 10,
   "id": "0c06c3cb",
   "metadata": {
    "id": "0c06c3cb"
   },
   "outputs": [],
   "source": [
    "from dash import dcc, html\n",
    "\n",
    "# Define the layout\n",
    "app.layout = html.Div([\n",
    "    html.H1(\"My Dash App\", style={'textAlign': 'center'}),\n",
    "    dcc.Input(id='input-box', type='text', value='Type something...'),\n",
    "    html.Button('Submit', id='button'),\n",
    "    html.Div(id='output-div')\n",
    "])"
   ]
  },
  {
   "cell_type": "markdown",
   "id": "1f312978",
   "metadata": {
    "id": "1f312978"
   },
   "source": [
    "## Callback to Update the Output\n",
    "\n",
    "Callbacks in Dash are used to update the app's layout interactively. A callback is a function that gets automatically called by Dash whenever the input components' values change."
   ]
  },
  {
   "cell_type": "code",
   "execution_count": 11,
   "id": "596563f9",
   "metadata": {
    "id": "596563f9"
   },
   "outputs": [],
   "source": [
    "from dash.dependencies import Input, Output\n",
    "\n",
    "# Define callback to update output\n",
    "@app.callback(\n",
    "    Output('output-div', 'children'),\n",
    "    Input('button', 'n_clicks'),\n",
    "    [dash.dependencies.State('input-box', 'value')]\n",
    ")\n",
    "def update_output(n_clicks, value):\n",
    "    if n_clicks is not None:\n",
    "        return f'You have entered: {value}'\n",
    "    return ''\n"
   ]
  },
  {
   "cell_type": "markdown",
   "id": "ff8100a4",
   "metadata": {
    "id": "ff8100a4"
   },
   "source": [
    "## Running the App\n",
    "\n",
    "To run the app, need to call the `run_server` method on the app instance. This will start a web server that serves the app."
   ]
  },
  {
   "cell_type": "code",
   "execution_count": 12,
   "id": "f4ba73ee",
   "metadata": {
    "id": "f4ba73ee"
   },
   "outputs": [
    {
     "data": {
      "text/html": [
       "\n",
       "        <iframe\n",
       "            width=\"100%\"\n",
       "            height=\"650\"\n",
       "            src=\"http://127.0.0.1:8050/\"\n",
       "            frameborder=\"0\"\n",
       "            allowfullscreen\n",
       "            \n",
       "        ></iframe>\n",
       "        "
      ],
      "text/plain": [
       "<IPython.lib.display.IFrame at 0x23648d84610>"
      ]
     },
     "metadata": {},
     "output_type": "display_data"
    }
   ],
   "source": [
    "if __name__ == '__main__':\n",
    "    app.run_server(debug=True)"
   ]
  },
  {
   "cell_type": "markdown",
   "id": "733d996d",
   "metadata": {
    "id": "733d996d"
   },
   "source": [
    "## Example: Adding a Text Area\n",
    "\n",
    " can add a text area to your Dash app using the `dcc.Textarea` component. This component allows the user to input multiline text."
   ]
  },
  {
   "cell_type": "code",
   "execution_count": 18,
   "id": "30baeb41",
   "metadata": {
    "id": "30baeb41"
   },
   "outputs": [],
   "source": [
    "app.layout = html.Div([\n",
    "    html.H1(\"Chatbot\", style={'textAlign': 'center'}),\n",
    "    dcc.Textarea(\n",
    "        id='user-input',\n",
    "        value='Type your question here...',\n",
    "        style={'width': '100%', 'height': 100}\n",
    "    ),\n",
    "    html.Button('Submit', id='submit-button', n_clicks=0),\n",
    "    html.Div(id='chatbot-output', style={'padding': '10px'})\n",
    "])"
   ]
  },
  {
   "cell_type": "markdown",
   "id": "959705f9",
   "metadata": {
    "id": "959705f9"
   },
   "source": [
    "## Example: Creating a Chatbot Response\n",
    "\n",
    "We can create a simple chatbot response by defining a callback function that takes user input and generates a response."
   ]
  },
  {
   "cell_type": "code",
   "execution_count": 19,
   "id": "7c066fdd",
   "metadata": {
    "id": "7c066fdd"
   },
   "outputs": [],
   "source": [
    "# Define callback to update chatbot response\n",
    "@app.callback(\n",
    "    Output('chatbot-output', 'children'),\n",
    "    Input('submit-button', 'n_clicks'),\n",
    "    [dash.dependencies.State('user-input', 'value')]\n",
    ")\n",
    "def update_output(n_clicks, user_input):\n",
    "    if n_clicks > 0:\n",
    "        return html.Div([\n",
    "            html.P(f\"You: {user_input}\", style={'margin': '10px'}),\n",
    "            html.P(f\"Bot: I am training now, ask something else.\", style={'margin': '10px', 'backgroundColor': '#f0f0f0', 'padding': '10px', 'borderRadius': '5px'})\n",
    "        ])\n",
    "    return \"Ask me something!\"\n"
   ]
  },
  {
   "cell_type": "code",
   "execution_count": null,
   "id": "c3f08fa2-f7a5-4029-8a1b-7b921a2bf250",
   "metadata": {},
   "outputs": [],
   "source": []
  },
  {
   "cell_type": "code",
   "execution_count": null,
   "id": "8bde5958-bd47-4d5c-9680-cde5e27887e2",
   "metadata": {},
   "outputs": [],
   "source": []
  }
 ],
 "metadata": {
  "colab": {
   "provenance": []
  },
  "kernelspec": {
   "display_name": "Python 3 (ipykernel)",
   "language": "python",
   "name": "python3"
  },
  "language_info": {
   "codemirror_mode": {
    "name": "ipython",
    "version": 3
   },
   "file_extension": ".py",
   "mimetype": "text/x-python",
   "name": "python",
   "nbconvert_exporter": "python",
   "pygments_lexer": "ipython3",
   "version": "3.11.7"
  }
 },
 "nbformat": 4,
 "nbformat_minor": 5
}
